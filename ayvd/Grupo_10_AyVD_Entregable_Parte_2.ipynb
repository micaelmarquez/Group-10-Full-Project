{
  "cells": [
    {
      "cell_type": "markdown",
      "metadata": {
        "id": "LYvAOR2VzHmW"
      },
      "source": [
        "\n",
        "**Diplomatura en Ciencia de Datos, Aprendizaje Automático y sus Aplicaciones**\n",
        "\n",
        "**Edición 2022**\n",
        "\n",
        "---\n",
        "\n",
        "# Trabajo práctico entregable - Parte 2"
      ]
    },
    {
      "cell_type": "code",
      "execution_count": 9,
      "metadata": {
        "id": "Xwdfo7z20TUK"
      },
      "outputs": [],
      "source": [
        "import io\n",
        "import matplotlib\n",
        "import matplotlib.pyplot as plt\n",
        "import numpy\n",
        "import pandas as pd\n",
        "import seaborn\n",
        "import ssl\n",
        "import scipy\n",
        "\n",
        "ssl._create_default_https_context = ssl._create_unverified_context\n",
        "\n",
        "seaborn.set_context('talk')"
      ]
    },
    {
      "cell_type": "markdown",
      "metadata": {
        "id": "XY2Hl-Ma07Nn"
      },
      "source": [
        "## Lectura del dataset\n",
        "\n",
        "En la notebook 00 se explican los detalles de la siguiente sección."
      ]
    },
    {
      "cell_type": "code",
      "execution_count": 2,
      "metadata": {
        "id": "Vviv_sqXdR5W"
      },
      "outputs": [],
      "source": [
        "url = 'https://cs.famaf.unc.edu.ar/~mteruel/datasets/diplodatos/sysarmy_survey_2020_processed.csv'\n",
        "df = pd.read_csv(url)"
      ]
    },
    {
      "cell_type": "code",
      "execution_count": 3,
      "metadata": {
        "colab": {
          "base_uri": "https://localhost:8080/",
          "height": 324
        },
        "id": "gckNHXXLktJ4",
        "outputId": "15b44493-0df7-482e-a509-ae52c045b60d"
      },
      "outputs": [
        {
          "data": {
            "text/html": [
              "<div>\n",
              "<style scoped>\n",
              "    .dataframe tbody tr th:only-of-type {\n",
              "        vertical-align: middle;\n",
              "    }\n",
              "\n",
              "    .dataframe tbody tr th {\n",
              "        vertical-align: top;\n",
              "    }\n",
              "\n",
              "    .dataframe thead th {\n",
              "        text-align: right;\n",
              "    }\n",
              "</style>\n",
              "<table border=\"1\" class=\"dataframe\">\n",
              "  <thead>\n",
              "    <tr style=\"text-align: right;\">\n",
              "      <th></th>\n",
              "      <th>profile_gender</th>\n",
              "      <th>profile_age</th>\n",
              "      <th>work_country</th>\n",
              "      <th>work_province</th>\n",
              "      <th>profile_years_experience</th>\n",
              "      <th>work_years_in_company</th>\n",
              "      <th>work_years_in_current_position</th>\n",
              "      <th>work_people_in_charge_of</th>\n",
              "      <th>profile_studies_level</th>\n",
              "      <th>profile_studies_level_state</th>\n",
              "      <th>...</th>\n",
              "      <th>work_has_violence_situations</th>\n",
              "      <th>profile_sexual_orientation</th>\n",
              "      <th>profile_has_disabilities</th>\n",
              "      <th>profile_has_disabilities_hiring_difficulties</th>\n",
              "      <th>company_employee_number</th>\n",
              "      <th>company_main_activity</th>\n",
              "      <th>company_recommended</th>\n",
              "      <th>company_diversity_policies</th>\n",
              "      <th>company_extra_benefits</th>\n",
              "      <th>company_best_companies_city</th>\n",
              "    </tr>\n",
              "  </thead>\n",
              "  <tbody>\n",
              "    <tr>\n",
              "      <th>0</th>\n",
              "      <td>Mujer</td>\n",
              "      <td>26</td>\n",
              "      <td>Argentina</td>\n",
              "      <td>Ciudad Autónoma de Buenos Aires</td>\n",
              "      <td>3.0</td>\n",
              "      <td>3.0</td>\n",
              "      <td>3.0</td>\n",
              "      <td>0</td>\n",
              "      <td>Universitario</td>\n",
              "      <td>En curso</td>\n",
              "      <td>...</td>\n",
              "      <td>En mi trabajo actual</td>\n",
              "      <td>Homosexual</td>\n",
              "      <td>NaN</td>\n",
              "      <td>NaN</td>\n",
              "      <td>501-1000</td>\n",
              "      <td>Servicios / Consultoría de Software / Digital</td>\n",
              "      <td>7</td>\n",
              "      <td>2</td>\n",
              "      <td>Capacitaciones y/o cursos, Comidas pagas / sub...</td>\n",
              "      <td>NaN</td>\n",
              "    </tr>\n",
              "    <tr>\n",
              "      <th>1</th>\n",
              "      <td>Hombre</td>\n",
              "      <td>29</td>\n",
              "      <td>Argentina</td>\n",
              "      <td>Corrientes</td>\n",
              "      <td>5.0</td>\n",
              "      <td>2.0</td>\n",
              "      <td>2.0</td>\n",
              "      <td>4</td>\n",
              "      <td>Universitario</td>\n",
              "      <td>En curso</td>\n",
              "      <td>...</td>\n",
              "      <td>Jamás</td>\n",
              "      <td>Heterosexual</td>\n",
              "      <td>Visual</td>\n",
              "      <td>No</td>\n",
              "      <td>201-500</td>\n",
              "      <td>Otras industrias</td>\n",
              "      <td>8</td>\n",
              "      <td>9</td>\n",
              "      <td>Horarios flexibles, Stock options / RSUs, Viát...</td>\n",
              "      <td>NaN</td>\n",
              "    </tr>\n",
              "    <tr>\n",
              "      <th>2</th>\n",
              "      <td>Mujer</td>\n",
              "      <td>22</td>\n",
              "      <td>Argentina</td>\n",
              "      <td>Ciudad Autónoma de Buenos Aires</td>\n",
              "      <td>2.0</td>\n",
              "      <td>0.0</td>\n",
              "      <td>0.0</td>\n",
              "      <td>0</td>\n",
              "      <td>Secundario</td>\n",
              "      <td>Completado</td>\n",
              "      <td>...</td>\n",
              "      <td>En un trabajo anterior</td>\n",
              "      <td>Bisexual o queer</td>\n",
              "      <td>NaN</td>\n",
              "      <td>No</td>\n",
              "      <td>2001-5000</td>\n",
              "      <td>Otras industrias</td>\n",
              "      <td>6</td>\n",
              "      <td>9</td>\n",
              "      <td>Clases de gimnasia online, Comidas pagas / sub...</td>\n",
              "      <td>NaN</td>\n",
              "    </tr>\n",
              "  </tbody>\n",
              "</table>\n",
              "<p>3 rows × 48 columns</p>\n",
              "</div>"
            ],
            "text/plain": [
              "  profile_gender  profile_age work_country                    work_province  \\\n",
              "0          Mujer           26    Argentina  Ciudad Autónoma de Buenos Aires   \n",
              "1         Hombre           29    Argentina                       Corrientes   \n",
              "2          Mujer           22    Argentina  Ciudad Autónoma de Buenos Aires   \n",
              "\n",
              "   profile_years_experience  work_years_in_company  \\\n",
              "0                       3.0                    3.0   \n",
              "1                       5.0                    2.0   \n",
              "2                       2.0                    0.0   \n",
              "\n",
              "   work_years_in_current_position  work_people_in_charge_of  \\\n",
              "0                             3.0                         0   \n",
              "1                             2.0                         4   \n",
              "2                             0.0                         0   \n",
              "\n",
              "  profile_studies_level profile_studies_level_state  ...  \\\n",
              "0         Universitario                    En curso  ...   \n",
              "1         Universitario                    En curso  ...   \n",
              "2            Secundario                  Completado  ...   \n",
              "\n",
              "  work_has_violence_situations profile_sexual_orientation  \\\n",
              "0         En mi trabajo actual                 Homosexual   \n",
              "1                        Jamás               Heterosexual   \n",
              "2       En un trabajo anterior           Bisexual o queer   \n",
              "\n",
              "  profile_has_disabilities profile_has_disabilities_hiring_difficulties  \\\n",
              "0                      NaN                                          NaN   \n",
              "1                   Visual                                           No   \n",
              "2                      NaN                                           No   \n",
              "\n",
              "  company_employee_number                          company_main_activity  \\\n",
              "0                501-1000  Servicios / Consultoría de Software / Digital   \n",
              "1                 201-500                               Otras industrias   \n",
              "2               2001-5000                               Otras industrias   \n",
              "\n",
              "  company_recommended company_diversity_policies  \\\n",
              "0                   7                          2   \n",
              "1                   8                          9   \n",
              "2                   6                          9   \n",
              "\n",
              "                              company_extra_benefits  \\\n",
              "0  Capacitaciones y/o cursos, Comidas pagas / sub...   \n",
              "1  Horarios flexibles, Stock options / RSUs, Viát...   \n",
              "2  Clases de gimnasia online, Comidas pagas / sub...   \n",
              "\n",
              "  company_best_companies_city  \n",
              "0                         NaN  \n",
              "1                         NaN  \n",
              "2                         NaN  \n",
              "\n",
              "[3 rows x 48 columns]"
            ]
          },
          "execution_count": 3,
          "metadata": {},
          "output_type": "execute_result"
        }
      ],
      "source": [
        "df[:3]"
      ]
    },
    {
      "cell_type": "code",
      "execution_count": 4,
      "metadata": {
        "id": "OfzFpDO-lYxk"
      },
      "outputs": [],
      "source": [
        "is_man = df.profile_gender == 'Hombre'\n",
        "# Definimos muestras eliminando outliers por valores maximos y minimos de salarios\n",
        "groupA = df[(df.salary_monthly_NETO > 1000) & (df.salary_monthly_NETO<500000) & is_man].salary_monthly_NETO\n",
        "groupB = df[(df.salary_monthly_NETO > 1000) & (df.salary_monthly_NETO<500000) & ~is_man].salary_monthly_NETO\n"
      ]
    },
    {
      "cell_type": "markdown",
      "metadata": {
        "id": "co_0M_ojtmUh"
      },
      "source": [
        "## Ejercicio 1: Estimación\n",
        "\n",
        "**Consigna:**  Calcular una estimación puntual y un intervalo de confianza de nivel (1-alpha) para la resta entre la media del salario Neto para Hombres menos la media del salario Neto para otros géneros(diferencia de las medias entre el grupoA y grupoB). \n",
        "¿Cómo se relaciona este intervalo de confianza con el test de hipótesis?"
      ]
    },
    {
      "cell_type": "code",
      "execution_count": 5,
      "metadata": {},
      "outputs": [
        {
          "name": "stdout",
          "output_type": "stream",
          "text": [
            "Estimacion puntual:  16924.822872346675\n",
            "Tamaño muestra A:  4758\n",
            "Tamaño muestra B:  889\n"
          ]
        }
      ],
      "source": [
        "# Calculamos la estimacion puntual directamente evaluando el estadistico de la muestra\n",
        "estimacion_puntual = groupA.mean() - groupB.mean()\n",
        "print('Estimacion puntual: ', estimacion_puntual)\n",
        "\n",
        "# Calculamos el tamaño de las muestras para determinar que estadistico pivote debemos utilizar\n",
        "print('Tamaño muestra A: ', groupA.count())\n",
        "print('Tamaño muestra B: ', groupB.count())"
      ]
    },
    {
      "cell_type": "markdown",
      "metadata": {},
      "source": [
        "Al ser mucho mayores a 30 asumimos una distribucion normal y optamos por el estadistico Z para calcular el pivote a traves de la formula a continuacion:\n",
        "\n",
        "$Z{c}=\\frac{(\\bar{X}-\\bar{Y})-(\\mu_1-\\mu_2)}{\\sqrt{\\frac{s_1^2}{n_1}+\\frac{s_2^2}{n_2}}}$\n",
        "\n",
        "Donde $Z{c}$ se encuentra en el intervalos definido por :\n",
        "\n",
        "$P(-Z_{t}\\leq Z{c} \\leq Z_{t})=1-\\alpha$\n",
        "\n",
        "Que despejando el estadistico:\n",
        "\n",
        "$P\\left((\\bar{X}-\\bar{Y})-Z_{t} {\\sqrt{\\frac{s_1^2}{n_1}+\\frac{s_2^2}{n_2}}} \\leq \\mu_1 - \\mu_2\\leq (\\bar{X}-\\bar{Y})+Z_{t} {\\sqrt{\\frac{s_1^2}{n_1}+\\frac{s_2^2}{n_2}}} \\right)=1-\\alpha$\n",
        "\n",
        "Define los intervalos:\n",
        "\n",
        "$limite\\_inferior=(\\bar{X}-\\bar{Y})-Z_{t} {\\sqrt{\\frac{s_1^2}{n_1}+\\frac{s_2^2}{n_2}}}$\n",
        "\n",
        "$limite\\_superior=(\\bar{X}-\\bar{Y})+Z_{t} {\\sqrt{\\frac{s_1^2}{n_1}+\\frac{s_2^2}{n_2}}}$"
      ]
    },
    {
      "cell_type": "code",
      "execution_count": 6,
      "metadata": {},
      "outputs": [
        {
          "name": "stdout",
          "output_type": "stream",
          "text": [
            "Limite inferior:  13405.304360510261\n",
            "Limite superior:  20444.341384183088\n",
            "Estimacion puntual:  16924.822872346675\n"
          ]
        }
      ],
      "source": [
        "# Realizamos esos calculos\n",
        "estadistico_media_A=groupA.mean()\n",
        "estadistico_media_B=groupB.mean()\n",
        "\n",
        "s1=groupA.std()\n",
        "s2=groupB.std()\n",
        "\n",
        "n1=groupA.count()\n",
        "n2=groupB.count()\n",
        "\n",
        "# Definimos un alpha del 5% para asegurar con un grado de confianza del 95% \n",
        "# de que el parametro poblacional cae dentro del intervalo muestral\n",
        "alpha = 0.05\n",
        "# el cual establece el siguiente Z_t tabular asumiendo distribucion normal\n",
        "Z_t_0975=1.96\n",
        "\n",
        "limite_inferior=(estadistico_media_A-estadistico_media_B)-Z_t_0975*(pow((pow(s1,2)/n1)+pow(s2,2)/n2, 0.5))\n",
        "limite_superior=(estadistico_media_A-estadistico_media_B)+Z_t_0975*(pow((pow(s1,2)/n1)+pow(s2,2)/n2, 0.5))\n",
        "print('Limite inferior: ', limite_inferior)\n",
        "print('Limite superior: ', limite_superior)\n",
        "print('Estimacion puntual: ', estimacion_puntual)\n",
        "# Y corroboramos que la estimacion se encuentra dentro del intervalo calculado"
      ]
    },
    {
      "cell_type": "code",
      "execution_count": 7,
      "metadata": {},
      "outputs": [
        {
          "data": {
            "text/plain": [
              "<AxesSubplot:xlabel='salary_monthly_NETO', ylabel='Count'>"
            ]
          },
          "execution_count": 7,
          "metadata": {},
          "output_type": "execute_result"
        },
        {
          "data": {
            "image/png": "[encoded data removed]",
            "text/plain": [
              "<Figure size 432x288 with 1 Axes>"
            ]
          },
          "metadata": {
            "needs_background": "light"
          },
          "output_type": "display_data"
        }
      ],
      "source": [
        "# Histogramas de las muestras que demuestran de forma grafica distribuciones normales debido al numero de muestras tomadas\n",
        "seaborn.histplot(groupA, bins=200)\n",
        "seaborn.histplot(groupB, bins=200)"
      ]
    },
    {
      "cell_type": "markdown",
      "metadata": {},
      "source": [
        "**Conclusion**:\n",
        "\n",
        "Podemos asegurar que existe un 95% de probabilidad de que el parametro poblacional (diferencia entre los salarios netos de hombre y otros generos) se encuentre dentro del intervalo definido entre los limites calculados: \n",
        "\n",
        "*   Limite inferior:  18560.5807418027\n",
        "*   Limite superior:  27964.16605803376\n",
        "\n",
        "La relacion de este intervalo con el test de hipotesis es principalmente que define justamente los limites de desviacion que vamos a tolerar para aceptar/rechazar una ${H{o}}$\n"
      ]
    },
    {
      "cell_type": "markdown",
      "metadata": {
        "id": "IFi2T7Y6nM92"
      },
      "source": [
        "## Ejercicio 2: Test de hipótesis\n"
      ]
    },
    {
      "cell_type": "markdown",
      "metadata": {
        "id": "Rzxe8UYU6EfJ"
      },
      "source": [
        "\n",
        "### 2.1 Formalización\n",
        "\n",
        "Describir formalmente los distintos componentes de un test de hipótesis para comprobar si la distribución de los salarios es distinta entre los grupos A y B.\n",
        "\n",
        "**Hipótesis Nula**\n",
        "\n",
        "$H_0=$ Los grupos A y B perciben los mismos salarios (μA - μB) = 0\n",
        "\n",
        "$H_1=$ Los grupos A y B perdicen salarios distintos (μA - μB) != 0\n",
        "\n",
        "**Estadístico (Pivote)**\n",
        "\n",
        "  * Identificar el estadístico\n",
        "  * Eescribir qué distribución tiene bajo $H_0$\n",
        "\n",
        "Como primera observación, podemos destacar que el histograma analizado en el punto anterior tiene una distribución normal sesgada hacia la izquierda cuando se eliminan los outliers. El estadístico que se usará será la media de las muestras.\n",
        "\n",
        "Se puede utilizar el T-Test para el análisis.\n",
        "\n",
        "$t=\\frac{(\\bar{X_a}-\\bar{X_b})-(\\mu_1-\\mu_2)}{\\sqrt{\\frac{s_1^2}{n_1}+\\frac{s_2^2}{n_2}}}$\n",
        "\n",
        "\n",
        "\n",
        "\n"
      ]
    },
    {
      "cell_type": "markdown",
      "metadata": {
        "id": "3Ip_5YdenC8u"
      },
      "source": [
        "### 2.2 P-valor\n",
        "\n",
        "1. Calcule el p-valor y decida si rechazar o no la hipótesis nula.\n",
        "2. Interprete el resultado.\n",
        "\n",
        "Links útiles:\n",
        "* [Test de hipótesis usando scipy](https://docs.scipy.org/doc/scipy/reference/generated/scipy.stats.ttest_ind.html)\n",
        "* [Test de Welch](http://daniellakens.blogspot.com/2015/01/always-use-welchs-t-test-instead-of.html)"
      ]
    },
    {
      "cell_type": "markdown",
      "metadata": {},
      "source": [
        "Para calcular el P-Value utilizaremos la función provista por la librería SCIPY, que nos devolverá el t-statistic y el p-value."
      ]
    },
    {
      "cell_type": "code",
      "execution_count": 12,
      "metadata": {},
      "outputs": [
        {
          "data": {
            "text/plain": [
              "Ttest_indResult(statistic=7.543276991262574, pvalue=5.310978943817825e-14)"
            ]
          },
          "execution_count": 12,
          "metadata": {},
          "output_type": "execute_result"
        }
      ],
      "source": [
        "#calculamos\n",
        "scipy.stats.ttest_ind(groupA,groupB)"
      ]
    },
    {
      "cell_type": "markdown",
      "metadata": {},
      "source": [
        "Podemos ver que el t=7,54 y el p-value=5,31e-14 aproximadamente. Como el valor de p es menor que el criterio de significancia (especificado a priori), se rechaza la hipótesis nula. Es decir, los grupos A y B perciben salarios distintos."
      ]
    },
    {
      "cell_type": "markdown",
      "metadata": {
        "id": "8VxiQr5YrQYR"
      },
      "source": [
        "### [Opcional] 2.3 Potencia del test\n",
        "\n",
        "Nuestra muestra, ¿era lo suficientemente grande para detectar si existe o no una diferencia entre los grupos?\n",
        "\n",
        "1. Utilice la función `tt_ind_solve_power` para calcular el tamaño necesario de la muestra para un poder estadístico de 0.8, 0.9 y 0.95, asumiendo una significancia estadística de 0.05.\n",
        "2. ¿Cómo intepretan el poder estadístico de un test? Dado su conocimiento de dominio sobre los datos, ¿les parece que esta muestra es lo suficientemente grande para ser representativo de la tendencia general? ¿y para utilizarlo en un juicio penal contra una empresa XX por una causa de discriminación?\n",
        "\n",
        "[Documentación](https://www.statsmodels.org/stable/generated/statsmodels.stats.power.tt_ind_solve_power.html)\n",
        "\n",
        "NOTA: este análisis debería hacerse ANTES de recolectar los datos."
      ]
    },
    {
      "cell_type": "code",
      "execution_count": null,
      "metadata": {
        "colab": {
          "base_uri": "https://localhost:8080/"
        },
        "id": "_IiqGfo4t6Db",
        "outputId": "30acabed-46e2-476d-ec27-fec5823af98c"
      },
      "outputs": [],
      "source": [
        "# from statsmodels.stats.power import tt_ind_solve_power"
      ]
    },
    {
      "cell_type": "markdown",
      "metadata": {
        "id": "useKMdPyMod5"
      },
      "source": [
        "## Ejercicio 3: Comunicación y visualización\n",
        "\n",
        "**Consigna:** Seleccionen un resultado que les parezca relevante a partir de alguno de los ejercicios del entregable. Diseñe e implemente una comunicación en base a este mensaje, en un archivo PDF.\n",
        "\n",
        "Elija las palabras y visualización más adecuada para que la comunicación sea entendible, efectiva y se dapte a UNA de las siguientes situaciones:\n",
        "\n",
        "1. Una sección en un artículo de difusión a presentar como parte de una organización sin fines de lucro.\n",
        "No más de 1 página A4 (o dos si los gráficos son muy grandes).\n",
        "  1. Ejemplo: Alguna de las secciones [Los ecosistemas de emprendimiento de América Latina y el Caribe frente al COVID-19: Impactos, necesidades y recomendaciones](https://publications.iadb.org/es/los-ecosistemas-de-emprendimiento-de-america-latina-y-el-caribe-frente-al-covid-19-impactos-necesidades-y-recomendaciones), por ejemplo la sección *2.2. Reacciones de los emprendedores*.\n",
        "  2. Ejemplo: Alguna de las secciones de [The state of gender pay gap in 2021](https://www.payscale.com/data/gender-pay-gap?tk=carousel-ps-rc-job)\n",
        "  3. Puntos clave: \n",
        "    1. Simpleza de los gráficos.\n",
        "    2. Comunicación en lenguaje simple a personas que no son necesariamente expertos de dominio.\n",
        "    2. Selección de UNA oración sobre la que se hace énfasis.\n",
        "    3. No es necesario que mencionen objetivos ni descripciones del conjunto de datos, se supone que eso ya estaría explicado en otras secciones del informe.\n",
        "\n",
        "2. Una publicación científica o reporte técnico interno. No más de una página A4:\n",
        "  2. Ejemplo: La sección de resultados de [IZA DP No. 12914: The Impact of a Minimum Wage Change on the Distribution of Wages and Household Income](https://www.iza.org/publications/dp/12914/the-impact-of-a-minimum-wage-change-on-the-distribution-of-wages-and-household-income).\n",
        "  2. Ejemplo: Alguna de las secciones de [Temporary reduction in daily global CO2 emissions during the COVID-19 forced confinement](https://www.nature.com/articles/s41558-020-0797-x)\n",
        "  3. Puntos clave:\n",
        "    3. Nivel de detalle técnico requerido. Es necesario justificar la validez del análisis.\n",
        "    4. La idea presentada puede ser más compleja. Pueden asumir que la audiencia tiene conocimiento técnico y va a analizar las visualizaciones en detalle. \n",
        "    5. Pueden presentar más en detalle las limitaciones del análisis (significancia estadística, etc.)\n",
        "    2. No es necesario que mencionen objetivos ni descripciones del conjunto de datos, se supone que eso ya estaría explicado en otras secciones del informe.\n",
        "\n",
        "3. Un tweet (o post de LinkedIn) para la cuenta de su empresa consultora que hace análisis de datos. El objetivo es promocionar un análisis de datos abiertos que van a incluir en su portfolio:\n",
        "  1. Ejemplo: [Comparación vacunas covid](https://twitter.com/infobeautiful/status/1381577746527236098?s=20)\n",
        "  2. Ejemplo: [Tweet del BID](https://twitter.com/el_BID/status/1388508583944507396?s=20). Lo valioso de este tweet es que usaron un único número para transmitir un mensaje. Puede ser algo así, o con un gráfico muy simple.\n",
        "  3. Ejemplo: [Cambio climático](https://twitter.com/UNFCCC/status/1387732156190011394?s=20) Es un muy buen ejemplo, excepto que el gráfico no se lee nada y hay que entrar a la publicación original.\n",
        "  3. Ejemplo: [¿Cuánto están los programadores en las empresas?](https://www.linkedin.com/posts/denis-rothman-0b034043_tech-career-work-activity-6793861923269054464-gS6y) (No verificamos la veracidad o seriedad de la fuente).\n",
        "  4. Puntos clave:\n",
        "    1. Su audiencia no va a mirar la visualización por más de unos segundos, y no tiene conocimiento técnico.\n",
        "  3. Tienen que incluir además una *breve* descripción de cómo obtuvieron los datos que están presentando, que no entraría en el tweet.\n"
      ]
    },
    {
      "cell_type": "markdown",
      "metadata": {},
      "source": [
        "- calcular y visualizar medias agrupadas por lenguaje para determinar posible edad de los lenguajes, asumiendo que lenguajes mas antiguos son desarrollados por programadores mas viejos y viceversa\n",
        "- una vez determinadas las edades de los lenguajes, definimos grupos que nos permitan segmentar el analisis para los mismos\n",
        "- analizamos la distribucion y medidas de centralizacion y dispersion de los salarios percibidos agrupados por genero y grupos de lenguajes para aquellos mas antiguos y aquellos mas recientes\n",
        "- evaluamos resultados para intentar determinar si existio una evloucion en el mismo a traves de los años"
      ]
    },
    {
      "cell_type": "code",
      "execution_count": null,
      "metadata": {},
      "outputs": [],
      "source": [
        "# Eliminamos outliers para el analisis estableciendo maximos y minimos de salarios segun analisis anteriores\n",
        "relevant_columns = ['profile_age', 'profile_gender', 'tools_programming_languages', 'salary_monthly_NETO']\n",
        "limite_inferior = 5000\n",
        "limite_superior = 500000\n",
        "filtered_df = df.copy()\n",
        "filtered_df = filtered_df[(limite_inferior< df['salary_monthly_NETO']) & (df['salary_monthly_NETO'] < limite_superior)]"
      ]
    },
    {
      "cell_type": "code",
      "execution_count": null,
      "metadata": {},
      "outputs": [
        {
          "name": "stderr",
          "output_type": "stream",
          "text": [
            "/var/folders/g3/60y3stx94570x_f9zydtwpsm0000gn/T/ipykernel_96230/1565549114.py:25: FutureWarning: The default dtype for empty Series will be 'object' instead of 'float64' in a future version. Specify a dtype explicitly to silence this warning.\n",
            "  df_lang = filtered_df.cured_programming_languages\\\n"
          ]
        }
      ],
      "source": [
        "# Usamos la funcion provista en clase para poder calcular frecuencia de lenguajes\n",
        "\n",
        "# Convert the comma-separated string of languages to a list of string.\n",
        "# Remove 'ninguno de los anteriores' option, spaces and training commas.\n",
        "def split_languages(languages_str):\n",
        "  if not isinstance(languages_str, str):\n",
        "    return []\n",
        "  # Remove 'other' option\n",
        "  languages_str = languages_str.lower()\\\n",
        "    .replace('ninguno de los anteriores', '')\n",
        "  # Split string into list of items\n",
        "  # Remove spaces and commas for each item\n",
        "  return [lang.strip().replace(',', '')\n",
        "          for lang in languages_str.split()]\n",
        "\n",
        "# Create a new column with the list of languages\n",
        "filtered_df.loc[:, 'cured_programming_languages'] = filtered_df\\\n",
        "    .tools_programming_languages.apply(split_languages)\n",
        "if 'cured_programming_languages' not in relevant_columns:\n",
        "    relevant_columns.append('cured_programming_languages') \n",
        "# Duplicate each row of df for each programming language\n",
        "# mentioned in the response.\n",
        "# We only include in df_lang the columns we are going to analyze later, so we\n",
        "# don't duplicate innecesary information.\n",
        "df_lang = filtered_df.cured_programming_languages\\\n",
        "    .apply(pd.Series).stack()\\\n",
        "    .reset_index(level=-1, drop=True).to_frame()\\\n",
        "    .join(filtered_df[relevant_columns])\\\n",
        "    .rename(columns={0: 'programming_language'})\n",
        "# Horrible programming style! But a lot of data science code can be written with\n",
        "# as concatenations of functions (pipelines), and there's no elegant way of\n",
        "# doing that on Python."
      ]
    },
    {
      "cell_type": "code",
      "execution_count": null,
      "metadata": {},
      "outputs": [
        {
          "name": "stderr",
          "output_type": "stream",
          "text": [
            "No artists with labels found to put in legend.  Note that artists whose label start with an underscore are ignored when legend() is called with no argument.\n"
          ]
        },
        {
          "data": {
            "text/plain": [
              "<matplotlib.legend.Legend at 0x123715cd0>"
            ]
          },
          "execution_count": 24,
          "metadata": {},
          "output_type": "execute_result"
        },
        {
          "data": {
            "image/png": "[encoded data removed]",
            "text/plain": [
              "<Figure size 576x288 with 1 Axes>"
            ]
          },
          "metadata": {
            "needs_background": "light"
          },
          "output_type": "display_data"
        }
      ],
      "source": [
        "# Rankeamos los diferentes lenguajes por popularidad excluyendo los lenguajes que no nos importan\n",
        "# debido principalmente a que no son estrictamente lenguajes sino herramientas o informacion basura\n",
        "\n",
        "excluded_language = ['css', 'html', 'sql', 'bash/shell', 'ninguno', 'vba']\n",
        "excluding_language = df_lang[~df_lang.programming_language.isin(excluded_language)]\n",
        "language_count = excluding_language.programming_language.value_counts()\\\n",
        "    .reset_index()\\\n",
        "    .rename(columns={'index': 'language', 'programming_language': 'frequency'})\n",
        "\n",
        "min_usuaries = 200\n",
        "interesting_languages = language_count['language'][language_count['frequency'] > min_usuaries]\n",
        "filtered_df_lang = df_lang[df_lang.programming_language.isin(interesting_languages)]\n",
        "\n",
        "# Graficamos su frecuencia lo cual refleja la popularidad del mismo\n",
        "fig_popularidad = plt.figure(figsize=(8,4))\n",
        "seaborn.barplot(x='language',  y='frequency', data=language_count[:10])\n",
        "plt.xticks(rotation=30)\n",
        "plt.legend(loc='upper right')"
      ]
    },
    {
      "cell_type": "code",
      "execution_count": null,
      "metadata": {},
      "outputs": [
        {
          "name": "stderr",
          "output_type": "stream",
          "text": [
            "No artists with labels found to put in legend.  Note that artists whose label start with an underscore are ignored when legend() is called with no argument.\n"
          ]
        },
        {
          "data": {
            "text/plain": [
              "<matplotlib.legend.Legend at 0x1233cbc10>"
            ]
          },
          "execution_count": 25,
          "metadata": {},
          "output_type": "execute_result"
        },
        {
          "data": {
            "image/png": "[encoded data removed]",
            "text/plain": [
              "<Figure size 576x288 with 1 Axes>"
            ]
          },
          "metadata": {
            "needs_background": "light"
          },
          "output_type": "display_data"
        }
      ],
      "source": [
        "# Calculamos media de edades de programadores para los lenguages mas populares y los ordenamos para rankearlos\n",
        "language_age_media = filtered_df_lang.groupby('programming_language')['profile_age'].mean()\n",
        "\n",
        "sorted_language_age_media = language_age_media[:50].reset_index()\\\n",
        "     .rename(columns={'index': 'programming_language'}).sort_values('profile_age', ascending=False)\n",
        "\n",
        "fig_age = plt.figure(figsize=(8,4))\n",
        "seaborn.barplot(x=\"programming_language\", y=\"profile_age\", data=sorted_language_age_media, order=sorted_language_age_media.programming_language)\n",
        "plt.xticks(rotation=30)\n",
        "plt.legend(loc='upper right')\n"
      ]
    },
    {
      "cell_type": "markdown",
      "metadata": {},
      "source": [
        "Este grafico nos dice que programadores con media de edad mas alta se concentran en lenguajes como java, javascript c, c++ y programadores con medias de edad mas baja (jovenes) en lenguajes de programacion como typescript, go o c#, lo cual se condice de alguna manera con los años de salida de los lenguajes."
      ]
    },
    {
      "cell_type": "code",
      "execution_count": null,
      "metadata": {},
      "outputs": [
        {
          "data": {
            "text/plain": [
              "<matplotlib.legend.Legend at 0x1235b7130>"
            ]
          },
          "execution_count": 26,
          "metadata": {},
          "output_type": "execute_result"
        },
        {
          "data": {
            "image/png": "[encoded data removed]",
            "text/plain": [
              "<Figure size 864x432 with 1 Axes>"
            ]
          },
          "metadata": {
            "needs_background": "light"
          },
          "output_type": "display_data"
        }
      ],
      "source": [
        "# Graficamos medias de salarios agrupados por genero y ordenados por los resultados anteriores\n",
        "\n",
        "sorted_language_age_media.programming_language\n",
        "language_salary_media = filtered_df_lang.groupby(['programming_language', 'profile_gender'])['salary_monthly_NETO'].mean()\n",
        "# print(language_salary_media[:50].sort_values())\n",
        "\n",
        "tmp = language_salary_media.reset_index()\\\n",
        "     .rename(columns={'index': 'programming_language'}).sort_values('salary_monthly_NETO')\n",
        "\n",
        "fig_salary = plt.figure(figsize=(12,6))\n",
        "seaborn.barplot(x=\"programming_language\", y=\"salary_monthly_NETO\", hue=\"profile_gender\", data=tmp, order=sorted_language_age_media.programming_language)\n",
        "plt.xticks(rotation=30)\n",
        "plt.legend(loc='lower right')"
      ]
    },
    {
      "cell_type": "markdown",
      "metadata": {},
      "source": [
        "A simple vista no se aprecian variaciones en los salarios discriminados por genero a traves de linea temporal que hemos propuesto en los pasos anteriores"
      ]
    },
    {
      "cell_type": "code",
      "execution_count": null,
      "metadata": {},
      "outputs": [
        {
          "name": "stderr",
          "output_type": "stream",
          "text": [
            "No artists with labels found to put in legend.  Note that artists whose label start with an underscore are ignored when legend() is called with no argument.\n"
          ]
        },
        {
          "data": {
            "text/plain": [
              "<matplotlib.legend.Legend at 0x128caf490>"
            ]
          },
          "execution_count": 64,
          "metadata": {},
          "output_type": "execute_result"
        },
        {
          "data": {
            "image/png": "[encoded data removed]",
            "text/plain": [
              "<Figure size 576x288 with 1 Axes>"
            ]
          },
          "metadata": {
            "needs_background": "light"
          },
          "output_type": "display_data"
        }
      ],
      "source": [
        "# Calculamos la brecha entre hombre y resto\n",
        "\n",
        "brecha = []\n",
        "for language in sorted_language_age_media.programming_language:\n",
        "    salary_man = tmp[tmp.profile_gender.isin(['Hombre']) & tmp.programming_language.isin([language])].salary_monthly_NETO.mean()\n",
        "    salary_not_man = tmp[tmp.profile_gender.isin(['Mujer']) & tmp.programming_language.isin([language])].salary_monthly_NETO.mean()\n",
        "    brecha.append(salary_not_man / salary_man)\n",
        "\n",
        "df_final = pd.DataFrame({'programming_language': sorted_language_age_media.programming_language, 'brecha': brecha })\n",
        "\n",
        "fig_brecha = plt.figure(figsize=(8,4))\n",
        "seaborn.barplot(x=\"programming_language\", y=\"brecha\", data=df_final, order=sorted_language_age_media.programming_language)\n",
        "plt.xticks(rotation=30)\n",
        "plt.legend(loc='upper right')\n"
      ]
    }
  ],
  "metadata": {
    "colab": {
      "collapsed_sections": [],
      "name": "Copia de Entregable - Grupo 4- Parte 2 (copia colo).ipynb",
      "provenance": []
    },
    "interpreter": {
      "hash": "3306930177c67093f9da7a6ede2ac99cc7df6739533bfd161fb500212fc682bf"
    },
    "kernelspec": {
      "display_name": "Python 3.8.5 ('base')",
      "language": "python",
      "name": "python3"
    },
    "language_info": {
      "codemirror_mode": {
        "name": "ipython",
        "version": 3
      },
      "file_extension": ".py",
      "mimetype": "text/x-python",
      "name": "python",
      "nbconvert_exporter": "python",
      "pygments_lexer": "ipython3",
      "version": "3.8.5"
    }
  },
  "nbformat": 4,
  "nbformat_minor": 0
}
