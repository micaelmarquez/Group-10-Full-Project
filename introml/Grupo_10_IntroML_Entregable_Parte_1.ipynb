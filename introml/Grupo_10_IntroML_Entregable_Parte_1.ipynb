{
  "cells": [
    {
      "cell_type": "markdown",
      "metadata": {
        "id": "ffgcxcRlCvbK"
      },
      "source": [
        "# Laboratorio 1: Regresión en Boston\n",
        "\n",
        "En este laboratorio deben hacer experimentos de regresión con el conjunto de datos \"Boston house prices dataset\".\n",
        "\n",
        "Estudiarán el dataset, harán visualizaciones y seleccionarán atributos relevantes a mano.\n",
        "\n",
        "Luego, entrenarán y evaluarán diferentes tipos de regresiones, buscando las configuraciones que mejores resultados den."
      ]
    },
    {
      "cell_type": "code",
      "execution_count": 1,
      "metadata": {
        "id": "uvjdIxvzCvbQ"
      },
      "outputs": [],
      "source": [
        "import numpy as np\n",
        "import matplotlib.pyplot as plt\n",
        "import pandas as pd"
      ]
    },
    {
      "cell_type": "markdown",
      "metadata": {
        "id": "LGV10EW7CvbU"
      },
      "source": [
        "## Carga del Conjunto de Datos\n",
        "\n",
        "Cargamos el conjunto de datos y vemos su contenido."
      ]
    },
    {
      "cell_type": "code",
      "execution_count": 2,
      "metadata": {
        "id": "tKmeQ2K6CvbX",
        "outputId": "9b81e35e-5ec6-42dc-ebce-1dfe1769266c",
        "colab": {
          "base_uri": "https://localhost:8080/"
        }
      },
      "outputs": [
        {
          "output_type": "stream",
          "name": "stderr",
          "text": [
            "/usr/local/lib/python3.7/dist-packages/sklearn/utils/deprecation.py:87: FutureWarning: Function load_boston is deprecated; `load_boston` is deprecated in 1.0 and will be removed in 1.2.\n",
            "\n",
            "    The Boston housing prices dataset has an ethical problem. You can refer to\n",
            "    the documentation of this function for further details.\n",
            "\n",
            "    The scikit-learn maintainers therefore strongly discourage the use of this\n",
            "    dataset unless the purpose of the code is to study and educate about\n",
            "    ethical issues in data science and machine learning.\n",
            "\n",
            "    In this special case, you can fetch the dataset from the original\n",
            "    source::\n",
            "\n",
            "        import pandas as pd\n",
            "        import numpy as np\n",
            "\n",
            "\n",
            "        data_url = \"http://lib.stat.cmu.edu/datasets/boston\"\n",
            "        raw_df = pd.read_csv(data_url, sep=\"\\s+\", skiprows=22, header=None)\n",
            "        data = np.hstack([raw_df.values[::2, :], raw_df.values[1::2, :2]])\n",
            "        target = raw_df.values[1::2, 2]\n",
            "\n",
            "    Alternative datasets include the California housing dataset (i.e.\n",
            "    :func:`~sklearn.datasets.fetch_california_housing`) and the Ames housing\n",
            "    dataset. You can load the datasets as follows::\n",
            "\n",
            "        from sklearn.datasets import fetch_california_housing\n",
            "        housing = fetch_california_housing()\n",
            "\n",
            "    for the California housing dataset and::\n",
            "\n",
            "        from sklearn.datasets import fetch_openml\n",
            "        housing = fetch_openml(name=\"house_prices\", as_frame=True)\n",
            "\n",
            "    for the Ames housing dataset.\n",
            "    \n",
            "  warnings.warn(msg, category=FutureWarning)\n"
          ]
        },
        {
          "output_type": "execute_result",
          "data": {
            "text/plain": [
              "dict_keys(['data', 'target', 'feature_names', 'DESCR', 'filename', 'data_module'])"
            ]
          },
          "metadata": {},
          "execution_count": 2
        }
      ],
      "source": [
        "from sklearn.datasets import load_boston\n",
        "boston = load_boston()\n",
        "boston.keys()"
      ]
    },
    {
      "cell_type": "code",
      "execution_count": 3,
      "metadata": {
        "id": "bqB1CkBtCvbc",
        "outputId": "6b620d8b-7191-4ccd-d133-e4fd46d3dc8f",
        "colab": {
          "base_uri": "https://localhost:8080/"
        }
      },
      "outputs": [
        {
          "output_type": "stream",
          "name": "stdout",
          "text": [
            ".. _boston_dataset:\n",
            "\n",
            "Boston house prices dataset\n",
            "---------------------------\n",
            "\n",
            "**Data Set Characteristics:**  \n",
            "\n",
            "    :Number of Instances: 506 \n",
            "\n",
            "    :Number of Attributes: 13 numeric/categorical predictive. Median Value (attribute 14) is usually the target.\n",
            "\n",
            "    :Attribute Information (in order):\n",
            "        - CRIM     per capita crime rate by town\n",
            "        - ZN       proportion of residential land zoned for lots over 25,000 sq.ft.\n",
            "        - INDUS    proportion of non-retail business acres per town\n",
            "        - CHAS     Charles River dummy variable (= 1 if tract bounds river; 0 otherwise)\n",
            "        - NOX      nitric oxides concentration (parts per 10 million)\n",
            "        - RM       average number of rooms per dwelling\n",
            "        - AGE      proportion of owner-occupied units built prior to 1940\n",
            "        - DIS      weighted distances to five Boston employment centres\n",
            "        - RAD      index of accessibility to radial highways\n",
            "        - TAX      full-value property-tax rate per $10,000\n",
            "        - PTRATIO  pupil-teacher ratio by town\n",
            "        - B        1000(Bk - 0.63)^2 where Bk is the proportion of black people by town\n",
            "        - LSTAT    % lower status of the population\n",
            "        - MEDV     Median value of owner-occupied homes in $1000's\n",
            "\n",
            "    :Missing Attribute Values: None\n",
            "\n",
            "    :Creator: Harrison, D. and Rubinfeld, D.L.\n",
            "\n",
            "This is a copy of UCI ML housing dataset.\n",
            "https://archive.ics.uci.edu/ml/machine-learning-databases/housing/\n",
            "\n",
            "\n",
            "This dataset was taken from the StatLib library which is maintained at Carnegie Mellon University.\n",
            "\n",
            "The Boston house-price data of Harrison, D. and Rubinfeld, D.L. 'Hedonic\n",
            "prices and the demand for clean air', J. Environ. Economics & Management,\n",
            "vol.5, 81-102, 1978.   Used in Belsley, Kuh & Welsch, 'Regression diagnostics\n",
            "...', Wiley, 1980.   N.B. Various transformations are used in the table on\n",
            "pages 244-261 of the latter.\n",
            "\n",
            "The Boston house-price data has been used in many machine learning papers that address regression\n",
            "problems.   \n",
            "     \n",
            ".. topic:: References\n",
            "\n",
            "   - Belsley, Kuh & Welsch, 'Regression diagnostics: Identifying Influential Data and Sources of Collinearity', Wiley, 1980. 244-261.\n",
            "   - Quinlan,R. (1993). Combining Instance-Based and Model-Based Learning. In Proceedings on the Tenth International Conference of Machine Learning, 236-243, University of Massachusetts, Amherst. Morgan Kaufmann.\n",
            "\n",
            "[[6.3200e-03 1.8000e+01 2.3100e+00 ... 1.5300e+01 3.9690e+02 4.9800e+00]\n",
            " [2.7310e-02 0.0000e+00 7.0700e+00 ... 1.7800e+01 3.9690e+02 9.1400e+00]\n",
            " [2.7290e-02 0.0000e+00 7.0700e+00 ... 1.7800e+01 3.9283e+02 4.0300e+00]\n",
            " ...\n",
            " [6.0760e-02 0.0000e+00 1.1930e+01 ... 2.1000e+01 3.9690e+02 5.6400e+00]\n",
            " [1.0959e-01 0.0000e+00 1.1930e+01 ... 2.1000e+01 3.9345e+02 6.4800e+00]\n",
            " [4.7410e-02 0.0000e+00 1.1930e+01 ... 2.1000e+01 3.9690e+02 7.8800e+00]]\n"
          ]
        }
      ],
      "source": [
        "print(boston['DESCR'])   # descripción del dataset\n",
        "print(boston['data'])           # matriz con los datos de entrada (atributos)\n",
        "#print(boston['target'])         # vector de valores a predecir\n",
        "#print(boston['feature_names']  # nombres de los atributos para cada columna de 'data'"
      ]
    },
    {
      "cell_type": "code",
      "execution_count": 4,
      "metadata": {
        "id": "17Us9hzMCvbf",
        "outputId": "114cbfd7-3a6e-4029-9e18-d2dad486b985",
        "colab": {
          "base_uri": "https://localhost:8080/"
        }
      },
      "outputs": [
        {
          "output_type": "execute_result",
          "data": {
            "text/plain": [
              "((506, 13), (506,))"
            ]
          },
          "metadata": {},
          "execution_count": 4
        }
      ],
      "source": [
        "boston['data'].shape, boston['target'].shape"
      ]
    },
    {
      "cell_type": "markdown",
      "metadata": {
        "id": "8zRVHoI8Cvbi"
      },
      "source": [
        "## División en Entrenamiento y Evaluación\n",
        "\n",
        "Dividimos aleatoriamente los datos en 80% para entrenamiento y 20% para evaluación:"
      ]
    },
    {
      "cell_type": "code",
      "execution_count": 5,
      "metadata": {
        "id": "QpzXDrBKCvbk",
        "outputId": "17b4ef8c-79d3-47dd-b9ed-1ba4afbbb95b",
        "colab": {
          "base_uri": "https://localhost:8080/"
        }
      },
      "outputs": [
        {
          "output_type": "execute_result",
          "data": {
            "text/plain": [
              "((404, 13), (102, 13))"
            ]
          },
          "metadata": {},
          "execution_count": 5
        }
      ],
      "source": [
        "from sklearn.model_selection import train_test_split\n",
        "X, y = boston['data'], boston['target']\n",
        "X_train, X_test, y_train, y_test = train_test_split(X, y, train_size=0.8, random_state=0)\n",
        "X_train.shape, X_test.shape"
      ]
    },
    {
      "cell_type": "markdown",
      "metadata": {
        "id": "j3tUuuEnCvbn"
      },
      "source": [
        "## Ejercicio 1: Descripción de los Datos y la Tarea\n",
        "\n",
        "Responda las siguientes preguntas:\n",
        "\n",
        "1. ¿De qué se trata el conjunto de datos?\n",
        "2. ¿Cuál es la variable objetivo que hay que predecir? ¿Qué significado tiene?\n",
        "3. ¿Qué información (atributos) hay disponibles para hacer la predicción?\n",
        "4. ¿Qué atributos imagina ud. que serán los más determinantes para la predicción?\n",
        "5. ¿Qué problemas observa a priori en el conjunto de datos? ¿Observa posibles sesgos, riesgos, dilemas éticos, etc? Piense que los datos pueden ser utilizados para hacer predicciones futuras.\n",
        "\n",
        "**No hace falta escribir código para responder estas preguntas.**"
      ]
    },
    {
      "cell_type": "markdown",
      "metadata": {
        "id": "zAoAld8eCvbq"
      },
      "source": [
        "1. El conjunto de datos muestra la relación entre variables como son el crimen, el tamaño de los lotes residenciales, la cantidad de lotes utilizados para otros fines, cantidad de habitaciones promedio, etc. con el precio de las casas. \n",
        "2. Lo que buscamos predecir es el precio de las casas en funcion de los atributos dados. Lo cual implicará que dada ciertas características de las casas, podremos establecer un precio. \n",
        "3. Los atributos disponibles son:\n",
        "        - CRIM     per capita crime rate by town\n",
        "        - ZN       proportion of residential land zoned for lots over 25,000 sq.ft.\n",
        "        - INDUS    proportion of non-retail business acres per town\n",
        "        - CHAS     Charles River dummy variable (= 1 if tract bounds river; 0 otherwise)\n",
        "        - NOX      nitric oxides concentration (parts per 10 million)\n",
        "        - RM       average number of rooms per dwelling\n",
        "        - AGE      proportion of owner-occupied units built prior to 1940\n",
        "        - DIS      weighted distances to five Boston employment centres\n",
        "        - RAD      index of accessibility to radial highways\n",
        "        - TAX      full-value property-tax rate per $10,000\n",
        "        - PTRATIO  pupil-teacher ratio by town\n",
        "        - B        1000(Bk - 0.63)^2 where Bk is the proportion of black people by town\n",
        "        - LSTAT    % lower status of the population\n",
        "        - MEDV     Median value of owner-occupied homes in $1000's\n",
        "\n",
        "4. A nuestro entender los mejores atributos son: CRIM, RM, ZN, PTRATIO \n",
        "\n",
        "5. Hay una falta etica grave al establecer la proporcion de personas de raza negra como un factor para establecer, y mas aún, predecir el precio de las viviendas \n"
      ]
    },
    {
      "cell_type": "markdown",
      "metadata": {
        "id": "Gbo5i_8CCvbt"
      },
      "source": [
        "## Ejercicio 2: Visualización de los Datos\n",
        "\n",
        "1. Para cada atributo de entrada, haga una gráfica que muestre su relación con la variable objetivo.\n",
        "2. Estudie las gráficas, identificando **a ojo** los atributos que a su criterio sean los más informativos para la predicción.\n",
        "3. Para ud., ¿cuáles son esos atributos? Lístelos en orden de importancia."
      ]
    },
    {
      "cell_type": "code",
      "execution_count": 6,
      "metadata": {
        "id": "HKE2xolrCvbu",
        "outputId": "da7150f7-16c1-48d6-9d94-21101b99c43f",
        "colab": {
          "base_uri": "https://localhost:8080/",
          "height": 298
        }
      },
      "outputs": [
        {
          "output_type": "execute_result",
          "data": {
            "text/plain": [
              "Text(0.5, 1.0, 'CRIM')"
            ]
          },
          "metadata": {},
          "execution_count": 6
        },
        {
          "output_type": "display_data",
          "data": {
            "text/plain": [
              "<Figure size 432x288 with 1 Axes>"
            ],
            "image/png": "[encoded data removed]"
          },
          "metadata": {
            "needs_background": "light"
          }
        }
      ],
      "source": [
        "# 1. Resolver acá. Ayuda/ejemplo:\n",
        "feature = 'CRIM'\n",
        "selector = (boston['feature_names'] == feature)\n",
        "plt.scatter(X[:, selector], y, facecolor=\"dodgerblue\", edgecolor=\"k\", label=\"datos\")\n",
        "plt.title(feature)"
      ]
    },
    {
      "cell_type": "code",
      "execution_count": 7,
      "metadata": {
        "id": "0CQA59cCCvbw",
        "outputId": "e693d69a-400f-4a48-a315-bb0b1b5487b5",
        "colab": {
          "base_uri": "https://localhost:8080/",
          "height": 281
        }
      },
      "outputs": [
        {
          "output_type": "display_data",
          "data": {
            "text/plain": [
              "<Figure size 432x288 with 1 Axes>"
            ],
            "image/png": "[encoded data removed]"
          },
          "metadata": {
            "needs_background": "light"
          }
        }
      ],
      "source": [
        "# 1. Resolver acá. Ayuda/ejemplo:\n",
        "feature = 'LSTAT'\n",
        "selector = (boston['feature_names'] == feature)\n",
        "plt.scatter(X[:, selector], y, facecolor=\"dodgerblue\", edgecolor=\"k\", label=\"datos\")\n",
        "plt.title(feature)\n",
        "plt.show()"
      ]
    },
    {
      "cell_type": "code",
      "execution_count": 8,
      "metadata": {
        "id": "npLcMa_0Cvby",
        "outputId": "d0515635-745b-46da-ab7e-d967a03cb78e",
        "colab": {
          "base_uri": "https://localhost:8080/",
          "height": 281
        }
      },
      "outputs": [
        {
          "output_type": "display_data",
          "data": {
            "text/plain": [
              "<Figure size 432x288 with 1 Axes>"
            ],
            "image/png": "[encoded data removed]"
          },
          "metadata": {
            "needs_background": "light"
          }
        }
      ],
      "source": [
        "feature = 'RM'\n",
        "selector = (boston['feature_names'] == feature)\n",
        "plt.scatter(X[:, selector], y, facecolor=\"dodgerblue\", edgecolor=\"k\", label=\"datos\")\n",
        "plt.title(feature)\n",
        "plt.show()"
      ]
    },
    {
      "cell_type": "raw",
      "metadata": {
        "id": "IFp2A4TgCvbz"
      },
      "source": [
        ""
      ]
    },
    {
      "cell_type": "markdown",
      "metadata": {
        "id": "QZyNLR-YCvb0"
      },
      "source": [
        "**3. Entre los atributos que identificamos como mas \"informativos\" para la predicción, identificamos RM: cantidad de habitaciones por casa, LSTAT que se podria traducir como cantidad de población con menor nivel social. En crimen podemos ver una pequeña recta en su inicio indicando un descenso del precio.**"
      ]
    },
    {
      "cell_type": "markdown",
      "metadata": {
        "id": "ci1v0CupCvb1"
      },
      "source": [
        "## Ejercicio 3: Regresión Lineal\n",
        "\n",
        "1. Seleccione **un solo atributo** que considere puede ser el más apropiado.\n",
        "2. Instancie una regresión lineal de **scikit-learn**, y entrénela usando sólo el atributo seleccionado.\n",
        "3. Evalúe, calculando error cuadrático medio para los conjuntos de entrenamiento y evaluación.\n",
        "4. Grafique el modelo resultante, junto con los puntos de entrenamiento y evaluación.\n",
        "5. Interprete el resultado, haciendo algún comentario sobre las cualidades del modelo obtenido.\n",
        "\n",
        "**Observación:** Con algunos atributos se puede obtener un error en test menor a 50."
      ]
    },
    {
      "cell_type": "code",
      "execution_count": 9,
      "metadata": {
        "id": "6-7aHWM8Cvb2",
        "outputId": "f99ae954-a8f8-4db2-e1f0-069744a38e81",
        "colab": {
          "base_uri": "https://localhost:8080/"
        }
      },
      "outputs": [
        {
          "output_type": "execute_result",
          "data": {
            "text/plain": [
              "((404, 1), (102, 1))"
            ]
          },
          "metadata": {},
          "execution_count": 9
        }
      ],
      "source": [
        "# 1. Resolver acá. Ayuda:\n",
        "feature = 'RM'  # selecciono el atributo 'RM'\n",
        "selector = (boston['feature_names'] == feature)\n",
        "X_train, X_test, y_train, y_test = train_test_split(X, y, train_size=0.8, random_state=0)\n",
        "X_train_f = X_train[:, selector]\n",
        "X_test_f = X_test[:, selector]\n",
        "X_train_f.shape, X_test_f.shape"
      ]
    },
    {
      "cell_type": "code",
      "execution_count": 10,
      "metadata": {
        "id": "hAOM5wnqCvb4",
        "outputId": "307f2ec2-2a05-440f-ae38-21f925ae1707",
        "colab": {
          "base_uri": "https://localhost:8080/"
        }
      },
      "outputs": [
        {
          "output_type": "execute_result",
          "data": {
            "text/plain": [
              "LinearRegression()"
            ]
          },
          "metadata": {},
          "execution_count": 10
        }
      ],
      "source": [
        "from sklearn.linear_model import LinearRegression\n",
        "model1=LinearRegression()\n",
        "model1.fit(X_train_f, y_train)"
      ]
    },
    {
      "cell_type": "code",
      "execution_count": 11,
      "metadata": {
        "id": "HtIKlAuYCvb6",
        "outputId": "5cd5a58a-022e-4886-a7df-4850e5aa04ac",
        "colab": {
          "base_uri": "https://localhost:8080/"
        }
      },
      "outputs": [
        {
          "output_type": "execute_result",
          "data": {
            "text/plain": [
              "array([9.37638431])"
            ]
          },
          "metadata": {},
          "execution_count": 11
        }
      ],
      "source": [
        "model1.coef_"
      ]
    },
    {
      "cell_type": "code",
      "execution_count": 12,
      "metadata": {
        "id": "k_i55miXCvb7",
        "outputId": "333cf9f5-17d0-4e51-af0e-b9d8cf996e7e",
        "colab": {
          "base_uri": "https://localhost:8080/"
        }
      },
      "outputs": [
        {
          "output_type": "execute_result",
          "data": {
            "text/plain": [
              "-36.476189627647315"
            ]
          },
          "metadata": {},
          "execution_count": 12
        }
      ],
      "source": [
        "model1.intercept_"
      ]
    },
    {
      "cell_type": "code",
      "execution_count": 13,
      "metadata": {
        "id": "4XrNSyakCvb8"
      },
      "outputs": [],
      "source": [
        "# 3. Predecir y evaluar acá.\n",
        "\n",
        "y_train_pred = model1.predict(X_train_f)\n",
        "y_val_pred = model1.predict(X_test_f)"
      ]
    },
    {
      "cell_type": "code",
      "source": [
        "from sklearn.metrics import mean_squared_error\n",
        "\n",
        "train_error = mean_squared_error(y_train, y_train_pred)\n",
        "val_error = mean_squared_error(y_test, y_val_pred)\n",
        "print(f'Train error: {train_error:0.2}')\n",
        "print(f'Test error: {val_error:0.2}')"
      ],
      "metadata": {
        "colab": {
          "base_uri": "https://localhost:8080/"
        },
        "id": "cVlB_BbOJWi_",
        "outputId": "d09623f4-3d9c-45f6-ee86-47a94588a01c"
      },
      "execution_count": 14,
      "outputs": [
        {
          "output_type": "stream",
          "name": "stdout",
          "text": [
            "Train error: 4.3e+01\n",
            "Test error: 4.7e+01\n"
          ]
        }
      ]
    },
    {
      "cell_type": "code",
      "execution_count": 15,
      "metadata": {
        "id": "5arjths1Cvb9",
        "outputId": "05002da9-7d1d-4c74-ab0b-5df3167e00f5",
        "colab": {
          "base_uri": "https://localhost:8080/",
          "height": 281
        }
      },
      "outputs": [
        {
          "output_type": "display_data",
          "data": {
            "text/plain": [
              "<Figure size 432x288 with 1 Axes>"
            ],
            "image/png": "[encoded data removed]"
          },
          "metadata": {
            "needs_background": "light"
          }
        }
      ],
      "source": [
        "# 4. Graficar acá. Ayuda:\n",
        "x_start = min(np.min(X_train_f), np.min(X_test_f))\n",
        "x_end = max(np.max(X_train_f), np.max(X_test_f))\n",
        "x = np.linspace(x_start, x_end, 200).reshape(-1, 1)\n",
        "plt.plot(x, model1.predict(x), color=\"tomato\", label=\"modelo\")\n",
        "\n",
        "plt.scatter(X_train_f, y_train, facecolor=\"dodgerblue\", edgecolor=\"k\", label=\"train\")\n",
        "plt.scatter(X_test_f, y_test, facecolor=\"white\", edgecolor=\"k\", label=\"test\")\n",
        "plt.title(feature)\n",
        "plt.legend()\n",
        "plt.show()"
      ]
    },
    {
      "cell_type": "markdown",
      "metadata": {
        "id": "4XI5sHafCvb-"
      },
      "source": [
        "**5. Como podemos ver en el gráfico, el modelo obtiene una linea siguiendo una tendencia.**"
      ]
    },
    {
      "cell_type": "markdown",
      "metadata": {
        "id": "7GDl3r0OCvb_"
      },
      "source": [
        "## Ejercicio 4: Regresión Polinomial\n",
        "\n",
        "En este ejercicio deben entrenar regresiones polinomiales de diferente complejidad, siempre usando **scikit-learn**.\n",
        "\n",
        "Deben usar **el mismo atributo** seleccionado para el ejercicio anterior.\n",
        "\n",
        "1. Para varios grados de polinomio, haga lo siguiente:\n",
        "    1. Instancie y entrene una regresión polinomial.\n",
        "    2. Prediga y calcule error en entrenamiento y evaluación. Imprima los valores.\n",
        "    3. Guarde los errores en una lista.\n",
        "2. Grafique las curvas de error en términos del grado del polinomio.\n",
        "3. Interprete la curva, identificando el punto en que comienza a haber sobreajuste, si lo hay.\n",
        "4. Seleccione el modelo que mejor funcione, y grafique el modelo conjuntamente con los puntos.\n",
        "5. Interprete el resultado, haciendo algún comentario sobre las cualidades del modelo obtenido.\n",
        "\n",
        "**Observación:** Con algunos atributos se pueden obtener errores en test menores a 40 e incluso a 35."
      ]
    },
    {
      "cell_type": "code",
      "execution_count": 16,
      "metadata": {
        "id": "tQ53URnSCvcB"
      },
      "outputs": [],
      "source": [
        "from sklearn.linear_model import LinearRegression\n",
        "from sklearn.preprocessing import PolynomialFeatures\n",
        "from sklearn.pipeline import make_pipeline\n",
        "degree = 2\n",
        "pf = PolynomialFeatures(degree)\n",
        "lr = LinearRegression(fit_intercept=False)  # el bias ya esta como feature\n",
        "model = make_pipeline(pf, lr)"
      ]
    },
    {
      "cell_type": "code",
      "source": [
        "X_train_f= X_train_f.reshape(-1, 1)\n",
        "X_test_f = X_test_f.reshape(-1, 1)\n",
        "X_train_f.shape, X_test_f.shape"
      ],
      "metadata": {
        "colab": {
          "base_uri": "https://localhost:8080/"
        },
        "id": "usgJJaZnLYvp",
        "outputId": "ff43c6ff-0fd6-4446-b04b-556de9a5c1ba"
      },
      "execution_count": 17,
      "outputs": [
        {
          "output_type": "execute_result",
          "data": {
            "text/plain": [
              "((404, 1), (102, 1))"
            ]
          },
          "metadata": {},
          "execution_count": 17
        }
      ]
    },
    {
      "cell_type": "code",
      "execution_count": 18,
      "metadata": {
        "id": "GWWMlCq_CvcC",
        "outputId": "391504cd-2208-46bc-de3a-74ae2455c5fe",
        "colab": {
          "base_uri": "https://localhost:8080/"
        }
      },
      "outputs": [
        {
          "output_type": "execute_result",
          "data": {
            "text/plain": [
              "Pipeline(steps=[('polynomialfeatures', PolynomialFeatures()),\n",
              "                ('linearregression', LinearRegression(fit_intercept=False))])"
            ]
          },
          "metadata": {},
          "execution_count": 18
        }
      ],
      "source": [
        "model.fit(X_train_f, y_train)"
      ]
    },
    {
      "cell_type": "code",
      "execution_count": 19,
      "metadata": {
        "id": "Cyn-PAZ0CvcD",
        "outputId": "5bf680e6-0201-43b0-c9cd-7b693d683d06",
        "colab": {
          "base_uri": "https://localhost:8080/"
        }
      },
      "outputs": [
        {
          "output_type": "execute_result",
          "data": {
            "text/plain": [
              "LinearRegression(fit_intercept=False)"
            ]
          },
          "metadata": {},
          "execution_count": 19
        }
      ],
      "source": [
        "Z_train = pf.fit_transform(X_train_f, y_train)\n",
        "lr.fit(Z_train, y_train)"
      ]
    },
    {
      "cell_type": "code",
      "execution_count": 20,
      "metadata": {
        "id": "dIFmF2XcCvcE",
        "outputId": "f93b8fb0-a822-4c17-ca88-e17de0e272ee",
        "colab": {
          "base_uri": "https://localhost:8080/"
        }
      },
      "outputs": [
        {
          "output_type": "execute_result",
          "data": {
            "text/plain": [
              "array([ 68.20229886, -23.56509374,   2.56037958])"
            ]
          },
          "metadata": {},
          "execution_count": 20
        }
      ],
      "source": [
        "lr.coef_"
      ]
    },
    {
      "cell_type": "code",
      "execution_count": 21,
      "metadata": {
        "id": "Nxy877CBCvcE",
        "outputId": "b1503ba4-a5b4-4253-ea42-a597eac158b3",
        "colab": {
          "base_uri": "https://localhost:8080/"
        }
      },
      "outputs": [
        {
          "output_type": "execute_result",
          "data": {
            "text/plain": [
              "0.0"
            ]
          },
          "metadata": {},
          "execution_count": 21
        }
      ],
      "source": [
        "lr.intercept_"
      ]
    },
    {
      "cell_type": "code",
      "execution_count": 22,
      "metadata": {
        "id": "XpNQgCcXCvcF",
        "outputId": "0319796e-0b0e-44c2-aba7-db1d2c6d9f5d",
        "colab": {
          "base_uri": "https://localhost:8080/",
          "height": 265
        }
      },
      "outputs": [
        {
          "output_type": "display_data",
          "data": {
            "text/plain": [
              "<Figure size 432x288 with 1 Axes>"
            ],
            "image/png": "[encoded data removed]"
          },
          "metadata": {
            "needs_background": "light"
          }
        }
      ],
      "source": [
        "# 2. Graficar curvas de error acá.\n",
        "plt.scatter(X_train_f, y_train, color=\"blue\", label=\"train\")\n",
        "plt.plot(x, model1.predict(x.reshape(-1, 1)), color=\"red\", label=\"modeloLineal\")\n",
        "plt.scatter(X_test_f, y_test, color=\"white\", edgecolor=\"k\", label=\"val\")\n",
        "plt.plot(x, model.predict(x.reshape(-1, 1)), color=\"green\", label=\"modeloPolinomial\")\n",
        "plt.legend()\n",
        "plt.show()"
      ]
    },
    {
      "cell_type": "code",
      "execution_count": 23,
      "metadata": {
        "id": "36hKrDmCCvcG"
      },
      "outputs": [],
      "source": [
        "y_train_pred = model.predict(X_train_f)\n",
        "y_val_pred = model.predict(X_test_f)"
      ]
    },
    {
      "cell_type": "code",
      "execution_count": 24,
      "metadata": {
        "id": "6JcumSd7CvcH",
        "outputId": "0168c7b4-b063-4556-b961-e877b7ff1653",
        "colab": {
          "base_uri": "https://localhost:8080/"
        }
      },
      "outputs": [
        {
          "output_type": "execute_result",
          "data": {
            "text/plain": [
              "(102,)"
            ]
          },
          "metadata": {},
          "execution_count": 24
        }
      ],
      "source": [
        "y_test.shape"
      ]
    },
    {
      "cell_type": "code",
      "execution_count": 25,
      "metadata": {
        "scrolled": true,
        "id": "cF_quXGICvcI",
        "outputId": "e37a10d5-9853-42b7-f3aa-0de616160fc9",
        "colab": {
          "base_uri": "https://localhost:8080/"
        }
      },
      "outputs": [
        {
          "output_type": "stream",
          "name": "stdout",
          "text": [
            "Train error: 3.8e+01\n",
            "Test error: 4e+01\n"
          ]
        }
      ],
      "source": [
        "from sklearn.metrics import mean_squared_error\n",
        "train_error = mean_squared_error(y_train, y_train_pred)\n",
        "val_error = mean_squared_error(y_test, y_val_pred)\n",
        "print(f'Train error: {train_error:0.2}')\n",
        "print(f'Test error: {val_error:0.2}')"
      ]
    },
    {
      "cell_type": "markdown",
      "metadata": {
        "id": "7GxGizEdCvcJ"
      },
      "source": [
        "# Curvas de error en términos del grado del polinomio."
      ]
    },
    {
      "cell_type": "code",
      "execution_count": 26,
      "metadata": {
        "id": "4JCZsnIVCvcK"
      },
      "outputs": [],
      "source": [
        "train_errors = []\n",
        "val_errors = []\n",
        "degrees = [0, 1, 2, 3, 4, 5, 6, 7, 8, 9]\n",
        "for degree in degrees:\n",
        "    # train:\n",
        "    pf = PolynomialFeatures(degree)\n",
        "    lr = LinearRegression(fit_intercept=False)\n",
        "    model = make_pipeline(pf, lr)\n",
        "    model.fit(X_train_f, y_train)\n",
        "    \n",
        "    # predict:\n",
        "    y_train_pred = model.predict(X_train_f)\n",
        "    y_val_pred = model.predict(X_test_f)\n",
        "    \n",
        "    # evaluate:\n",
        "    train_error = mean_squared_error(y_train, y_train_pred)\n",
        "    val_error = mean_squared_error(y_test, y_val_pred)\n",
        "    train_errors.append(train_error)\n",
        "    val_errors.append(val_error)"
      ]
    },
    {
      "cell_type": "code",
      "execution_count": 27,
      "metadata": {
        "id": "pUfr0Li4CvcL",
        "outputId": "2c1c9e6e-f792-4f6e-9fff-725664377f43",
        "colab": {
          "base_uri": "https://localhost:8080/",
          "height": 279
        }
      },
      "outputs": [
        {
          "output_type": "display_data",
          "data": {
            "text/plain": [
              "<Figure size 432x288 with 1 Axes>"
            ],
            "image/png": "[encoded data removed]"
          },
          "metadata": {
            "needs_background": "light"
          }
        }
      ],
      "source": [
        "plt.plot(degrees, train_errors, color=\"blue\", label=\"train\")\n",
        "plt.plot(degrees, val_errors, color=\"red\", label=\"val\")\n",
        "plt.legend()\n",
        "plt.xlabel(\"degree\")\n",
        "plt.ylabel(\"error\")\n",
        "plt.show()"
      ]
    },
    {
      "cell_type": "markdown",
      "metadata": {
        "id": "7F4Z9zHSCvcL"
      },
      "source": [
        "**3. Vemos que tenemos sobre ajuste despues del grado 3.**"
      ]
    },
    {
      "cell_type": "markdown",
      "metadata": {
        "id": "aUi5tORvCvcM"
      },
      "source": [
        "**4. Para reconstruir mejor el modelo lo haremos en grado 3.**"
      ]
    },
    {
      "cell_type": "code",
      "execution_count": 28,
      "metadata": {
        "id": "Dg31Y0TBCvcN"
      },
      "outputs": [],
      "source": [
        "degree = 3\n",
        "pf = PolynomialFeatures(degree)\n",
        "lr = LinearRegression(fit_intercept=False)  # el bias ya esta como feature\n",
        "model = make_pipeline(pf, lr)"
      ]
    },
    {
      "cell_type": "code",
      "execution_count": 29,
      "metadata": {
        "id": "RRbdjpQSCvcO",
        "outputId": "5f92e7c5-f148-40ec-e850-659130d6b332",
        "colab": {
          "base_uri": "https://localhost:8080/"
        }
      },
      "outputs": [
        {
          "output_type": "execute_result",
          "data": {
            "text/plain": [
              "Pipeline(steps=[('polynomialfeatures', PolynomialFeatures(degree=3)),\n",
              "                ('linearregression', LinearRegression(fit_intercept=False))])"
            ]
          },
          "metadata": {},
          "execution_count": 29
        }
      ],
      "source": [
        "model.fit(X_train_f, y_train)"
      ]
    },
    {
      "cell_type": "code",
      "execution_count": 30,
      "metadata": {
        "id": "T-6-7bXHCvcP",
        "outputId": "8e864070-1678-40d3-8afa-2c3e9a91f81d",
        "colab": {
          "base_uri": "https://localhost:8080/"
        }
      },
      "outputs": [
        {
          "output_type": "execute_result",
          "data": {
            "text/plain": [
              "LinearRegression(fit_intercept=False)"
            ]
          },
          "metadata": {},
          "execution_count": 30
        }
      ],
      "source": [
        "Z_train = pf.fit_transform(X_train_f, y_train)\n",
        "lr.fit(Z_train, y_train)"
      ]
    },
    {
      "cell_type": "code",
      "execution_count": 31,
      "metadata": {
        "id": "a2R_qp7hCvcP",
        "outputId": "b60ae850-8a0c-4225-cd66-90717718048f",
        "colab": {
          "base_uri": "https://localhost:8080/"
        }
      },
      "outputs": [
        {
          "output_type": "execute_result",
          "data": {
            "text/plain": [
              "array([ 274.12931892, -124.87102604,   18.86964785,   -0.85958803])"
            ]
          },
          "metadata": {},
          "execution_count": 31
        }
      ],
      "source": [
        "lr.coef_"
      ]
    },
    {
      "cell_type": "code",
      "execution_count": 32,
      "metadata": {
        "id": "UVIo-89GCvcQ",
        "outputId": "500bf48f-121b-4b57-afe4-ab87734de262",
        "colab": {
          "base_uri": "https://localhost:8080/"
        }
      },
      "outputs": [
        {
          "output_type": "execute_result",
          "data": {
            "text/plain": [
              "0.0"
            ]
          },
          "metadata": {},
          "execution_count": 32
        }
      ],
      "source": [
        "lr.intercept_"
      ]
    },
    {
      "cell_type": "code",
      "execution_count": 33,
      "metadata": {
        "id": "4aO5HDzLCvcR",
        "outputId": "4706b09d-9319-4d26-870b-0ebeff0ce710",
        "colab": {
          "base_uri": "https://localhost:8080/",
          "height": 265
        }
      },
      "outputs": [
        {
          "output_type": "display_data",
          "data": {
            "text/plain": [
              "<Figure size 432x288 with 1 Axes>"
            ],
            "image/png": "[encoded data removed]"
          },
          "metadata": {
            "needs_background": "light"
          }
        }
      ],
      "source": [
        "# 2. Graficar curvas de error acá.\n",
        "plt.scatter(X_train_f, y_train, color=\"blue\", label=\"train\")\n",
        "plt.plot(x, model1.predict(x.reshape(-1, 1)), color=\"red\", label=\"modeloLineal\")\n",
        "plt.scatter(X_test_f, y_test, color=\"white\", edgecolor=\"k\", label=\"val\")\n",
        "plt.plot(x, model.predict(x.reshape(-1, 1)), color=\"green\", label=\"modeloPolinomial\")\n",
        "plt.legend()\n",
        "plt.show()"
      ]
    },
    {
      "cell_type": "code",
      "execution_count": 34,
      "metadata": {
        "id": "mZr4VFu2CvcS"
      },
      "outputs": [],
      "source": [
        "y_train_pred = model.predict(X_train_f)\n",
        "y_val_pred = model.predict(X_test_f)"
      ]
    },
    {
      "cell_type": "code",
      "execution_count": 35,
      "metadata": {
        "id": "rfj8HYV3CvcS",
        "outputId": "580d7583-4196-47bf-ab5c-449005a9d35a",
        "colab": {
          "base_uri": "https://localhost:8080/"
        }
      },
      "outputs": [
        {
          "output_type": "stream",
          "name": "stdout",
          "text": [
            "Train error: 3.6e+01\n",
            "Test error: 4e+01\n"
          ]
        }
      ],
      "source": [
        "from sklearn.metrics import mean_squared_error\n",
        "train_error = mean_squared_error(y_train, y_train_pred)\n",
        "val_error = mean_squared_error(y_test, y_val_pred)\n",
        "print(f'Train error: {train_error:0.2}')\n",
        "print(f'Test error: {val_error:0.2}')"
      ]
    },
    {
      "cell_type": "markdown",
      "metadata": {
        "id": "xsJWNyaaCvcT"
      },
      "source": [
        "**5. Vemos que con un modelo de grado 3 baja el error de entrenamiento aunque se mantiene el error de testeo.** "
      ]
    },
    {
      "cell_type": "markdown",
      "metadata": {
        "id": "dgYYUOG9CvcU"
      },
      "source": [
        "## Ejercicio 5: Regresión con más de un Atributo\n",
        "\n",
        "En este ejercicio deben entrenar regresiones que toman más de un atributo de entrada.\n",
        "\n",
        "1. Seleccione **dos o tres atributos** entre los más relevantes encontrados en el ejercicio 2.\n",
        "2. Repita el ejercicio anterior, pero usando los atributos seleccionados. No hace falta graficar el modelo final.\n",
        "3. Interprete el resultado y compare con los ejercicios anteriores. ¿Se obtuvieron mejores modelos? ¿Porqué?"
      ]
    },
    {
      "cell_type": "code",
      "execution_count": 36,
      "metadata": {
        "id": "mtidzKqBCvcU",
        "outputId": "d89caea5-1cf0-49b9-ebff-77433ab93f5f",
        "colab": {
          "base_uri": "https://localhost:8080/"
        }
      },
      "outputs": [
        {
          "output_type": "execute_result",
          "data": {
            "text/plain": [
              "((404, 2), (102, 2))"
            ]
          },
          "metadata": {},
          "execution_count": 36
        }
      ],
      "source": [
        "# 1. Resolver acá. Ayuda (con dos atributos):\n",
        "selector = (boston['feature_names'] == 'RM') | (boston['feature_names'] == 'LSTAT')\n",
        "X_train_fs = X_train[:, selector]\n",
        "X_test_fs = X_test[:, selector]\n",
        "X_train_fs.shape, X_test_fs.shape"
      ]
    },
    {
      "cell_type": "code",
      "execution_count": 37,
      "metadata": {
        "id": "ZwbM2I-0CvcV"
      },
      "outputs": [],
      "source": [
        "degree = 1\n",
        "pf = PolynomialFeatures(degree)\n",
        "lr = LinearRegression(fit_intercept=False)  \n",
        "model3 = make_pipeline(pf, lr)"
      ]
    },
    {
      "cell_type": "code",
      "execution_count": 38,
      "metadata": {
        "id": "hNXp-L1dCvcW",
        "outputId": "3fe407ae-133c-416e-d303-8f1d7d9e1892",
        "colab": {
          "base_uri": "https://localhost:8080/"
        }
      },
      "outputs": [
        {
          "output_type": "execute_result",
          "data": {
            "text/plain": [
              "Pipeline(steps=[('polynomialfeatures', PolynomialFeatures(degree=1)),\n",
              "                ('linearregression', LinearRegression(fit_intercept=False))])"
            ]
          },
          "metadata": {},
          "execution_count": 38
        }
      ],
      "source": [
        "model3.fit(X_train_fs, y_train)"
      ]
    },
    {
      "cell_type": "code",
      "execution_count": 39,
      "metadata": {
        "id": "NXG9Rc-KCvcW",
        "outputId": "8464863c-5df0-4e97-c9e7-07109e97315c",
        "colab": {
          "base_uri": "https://localhost:8080/"
        }
      },
      "outputs": [
        {
          "output_type": "execute_result",
          "data": {
            "text/plain": [
              "LinearRegression(fit_intercept=False)"
            ]
          },
          "metadata": {},
          "execution_count": 39
        }
      ],
      "source": [
        "Z_train = pf.fit_transform(X_train_fs, X_test_fs)\n",
        "lr.fit(Z_train, y_train)"
      ]
    },
    {
      "cell_type": "markdown",
      "metadata": {
        "id": "qoYSJND3CvcX"
      },
      "source": [
        "**2.**"
      ]
    },
    {
      "cell_type": "code",
      "execution_count": 40,
      "metadata": {
        "id": "uCbzz_5vCvcY"
      },
      "outputs": [],
      "source": [
        "y_train_pred1 = model3.predict(X_train_fs)\n",
        "y_val_pred1 = model3.predict(X_test_fs)"
      ]
    },
    {
      "cell_type": "code",
      "execution_count": 41,
      "metadata": {
        "id": "EsmgxBgsCvcY",
        "outputId": "d7991a0c-ff87-4238-ee8e-bc1016ab92dd",
        "colab": {
          "base_uri": "https://localhost:8080/"
        }
      },
      "outputs": [
        {
          "output_type": "stream",
          "name": "stdout",
          "text": [
            "Train error: 3.6e+01\n",
            "Test error: 4e+01\n"
          ]
        }
      ],
      "source": [
        "from sklearn.metrics import mean_squared_error\n",
        "train_error = mean_squared_error(y_train, y_train_pred)\n",
        "val_error = mean_squared_error(y_test, y_val_pred)\n",
        "print(f'Train error: {train_error:0.2}')\n",
        "print(f'Test error: {val_error:0.2}')"
      ]
    },
    {
      "cell_type": "code",
      "execution_count": 42,
      "metadata": {
        "id": "Avbe_fdeCvcZ",
        "outputId": "4705838e-c477-46cd-c580-a02a3cc736c1",
        "colab": {
          "base_uri": "https://localhost:8080/",
          "height": 298
        }
      },
      "outputs": [
        {
          "output_type": "execute_result",
          "data": {
            "text/plain": [
              "Text(0.5, 1.0, 'Dos atributos')"
            ]
          },
          "metadata": {},
          "execution_count": 42
        },
        {
          "output_type": "display_data",
          "data": {
            "text/plain": [
              "<Figure size 432x288 with 1 Axes>"
            ],
            "image/png": "[encoded data removed]"
          },
          "metadata": {
            "needs_background": "light"
          }
        }
      ],
      "source": [
        "feature = 'RM'\n",
        "feature2 = \"LSTAT\"\n",
        "selector1 = (boston['feature_names'] == feature)\n",
        "selector2 = (boston['feature_names'] == feature2)\n",
        "plt.scatter(X[:, selector1], y, facecolor=\"dodgerblue\", edgecolor=\"k\", label=\"RM\")\n",
        "plt.scatter(X[:, selector2], y, facecolor=\"green\", edgecolor=\"k\", label=\"LSTAT\")\n",
        "#plt.plot(x, model3.predict(x.reshape(-1, 1)), color=\"red\", label=\"modeloLineal\")\n",
        "plt.xlim(0, 30)\n",
        "plt.legend()\n",
        "plt.title(\"Dos atributos\")"
      ]
    },
    {
      "cell_type": "markdown",
      "metadata": {
        "id": "c0xw3bvJCvcb"
      },
      "source": [
        "**3.Segun los resultados obtenidos y en funcion a la tasa de error, se obtiene mejores resultados en el train pero peores en el test.**"
      ]
    },
    {
      "cell_type": "markdown",
      "metadata": {
        "id": "ikfAW6tWCvcc"
      },
      "source": [
        "## Más ejercicios (opcionales)\n",
        "\n",
        "### Ejercicio 6: A Todo Feature\n",
        "\n",
        "Entrene y evalúe regresiones pero utilizando todos los atributos de entrada (va a andar mucho más lento). Estudie los resultados.\n",
        "\n",
        "### Ejercicio 7: Regularización\n",
        "\n",
        "Entrene y evalúe regresiones con regularización \"ridge\". Deberá probar distintos valores de \"alpha\" (fuerza de la regularización). ¿Mejoran los resultados?\n"
      ]
    }
  ],
  "metadata": {
    "interpreter": {
      "hash": "aee8b7b246df8f9039afb4144a1f6fd8d2ca17a180786b69acc140d282b71a49"
    },
    "kernelspec": {
      "display_name": "Python 3.9.5 64-bit",
      "language": "python",
      "name": "python3"
    },
    "language_info": {
      "codemirror_mode": {
        "name": "ipython",
        "version": 3
      },
      "file_extension": ".py",
      "mimetype": "text/x-python",
      "name": "python",
      "nbconvert_exporter": "python",
      "pygments_lexer": "ipython3",
      "version": "3.9.5"
    },
    "colab": {
      "name": "Grupo_10_IntroML_Entregable_Parte_1.ipynb",
      "provenance": [],
      "collapsed_sections": [
        "ikfAW6tWCvcc"
      ]
    }
  },
  "nbformat": 4,
  "nbformat_minor": 0
}